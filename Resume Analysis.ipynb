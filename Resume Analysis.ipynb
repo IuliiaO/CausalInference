{
 "cells": [
  {
   "cell_type": "code",
   "execution_count": 1,
   "metadata": {},
   "outputs": [],
   "source": [
    "import pandas as pd\n",
    "import numpy as np\n",
    "from scipy import stats\n",
    "from scipy.stats import ttest_ind\n",
    "import statsmodels.formula.api as smf"
   ]
  },
  {
   "cell_type": "code",
   "execution_count": 2,
   "metadata": {},
   "outputs": [
    {
     "data": {
      "text/html": [
       "<div>\n",
       "<style scoped>\n",
       "    .dataframe tbody tr th:only-of-type {\n",
       "        vertical-align: middle;\n",
       "    }\n",
       "\n",
       "    .dataframe tbody tr th {\n",
       "        vertical-align: top;\n",
       "    }\n",
       "\n",
       "    .dataframe thead th {\n",
       "        text-align: right;\n",
       "    }\n",
       "</style>\n",
       "<table border=\"1\" class=\"dataframe\">\n",
       "  <thead>\n",
       "    <tr style=\"text-align: right;\">\n",
       "      <th></th>\n",
       "      <th>education</th>\n",
       "      <th>ofjobs</th>\n",
       "      <th>yearsexp</th>\n",
       "      <th>computerskills</th>\n",
       "      <th>call</th>\n",
       "      <th>female</th>\n",
       "      <th>black</th>\n",
       "    </tr>\n",
       "  </thead>\n",
       "  <tbody>\n",
       "    <tr>\n",
       "      <th>0</th>\n",
       "      <td>4</td>\n",
       "      <td>2</td>\n",
       "      <td>6</td>\n",
       "      <td>1</td>\n",
       "      <td>0.0</td>\n",
       "      <td>1.0</td>\n",
       "      <td>0.0</td>\n",
       "    </tr>\n",
       "    <tr>\n",
       "      <th>1</th>\n",
       "      <td>3</td>\n",
       "      <td>3</td>\n",
       "      <td>6</td>\n",
       "      <td>1</td>\n",
       "      <td>0.0</td>\n",
       "      <td>1.0</td>\n",
       "      <td>0.0</td>\n",
       "    </tr>\n",
       "    <tr>\n",
       "      <th>2</th>\n",
       "      <td>4</td>\n",
       "      <td>1</td>\n",
       "      <td>6</td>\n",
       "      <td>1</td>\n",
       "      <td>0.0</td>\n",
       "      <td>1.0</td>\n",
       "      <td>1.0</td>\n",
       "    </tr>\n",
       "    <tr>\n",
       "      <th>3</th>\n",
       "      <td>3</td>\n",
       "      <td>4</td>\n",
       "      <td>6</td>\n",
       "      <td>1</td>\n",
       "      <td>0.0</td>\n",
       "      <td>1.0</td>\n",
       "      <td>1.0</td>\n",
       "    </tr>\n",
       "    <tr>\n",
       "      <th>4</th>\n",
       "      <td>3</td>\n",
       "      <td>3</td>\n",
       "      <td>22</td>\n",
       "      <td>1</td>\n",
       "      <td>0.0</td>\n",
       "      <td>1.0</td>\n",
       "      <td>0.0</td>\n",
       "    </tr>\n",
       "  </tbody>\n",
       "</table>\n",
       "</div>"
      ],
      "text/plain": [
       "   education  ofjobs  yearsexp  computerskills  call  female  black\n",
       "0          4       2         6               1   0.0     1.0    0.0\n",
       "1          3       3         6               1   0.0     1.0    0.0\n",
       "2          4       1         6               1   0.0     1.0    1.0\n",
       "3          3       4         6               1   0.0     1.0    1.0\n",
       "4          3       3        22               1   0.0     1.0    0.0"
      ]
     },
     "execution_count": 2,
     "metadata": {},
     "output_type": "execute_result"
    }
   ],
   "source": [
    "data = pd.io.stata.read_stata('resume_experiment.dta')\n",
    "data.head()"
   ]
  },
  {
   "cell_type": "code",
   "execution_count": 3,
   "metadata": {},
   "outputs": [],
   "source": [
    "#At first, we create two separate data frames for the treatment (black population) and conrol (non-black population) groups,\n",
    "#each of which contains 2435 observations.\n",
    "treatment=data[data['black']==1]\n",
    "control=data[data['black']==0]"
   ]
  },
  {
   "cell_type": "code",
   "execution_count": 4,
   "metadata": {},
   "outputs": [
    {
     "data": {
      "text/plain": [
       "(2435, 7)"
      ]
     },
     "execution_count": 4,
     "metadata": {},
     "output_type": "execute_result"
    }
   ],
   "source": [
    "treatment.shape"
   ]
  },
  {
   "cell_type": "code",
   "execution_count": 5,
   "metadata": {},
   "outputs": [
    {
     "data": {
      "text/plain": [
       "(2435, 7)"
      ]
     },
     "execution_count": 5,
     "metadata": {},
     "output_type": "execute_result"
    }
   ],
   "source": [
    "control.shape"
   ]
  },
  {
   "cell_type": "markdown",
   "metadata": {},
   "source": [
    "### Exercise 1: Do gender and computer skills look balanced across race groups? (1 point)"
   ]
  },
  {
   "cell_type": "code",
   "execution_count": 6,
   "metadata": {},
   "outputs": [
    {
     "data": {
      "text/html": [
       "<div>\n",
       "<style scoped>\n",
       "    .dataframe tbody tr th:only-of-type {\n",
       "        vertical-align: middle;\n",
       "    }\n",
       "\n",
       "    .dataframe tbody tr th {\n",
       "        vertical-align: top;\n",
       "    }\n",
       "\n",
       "    .dataframe thead th {\n",
       "        text-align: right;\n",
       "    }\n",
       "</style>\n",
       "<table border=\"1\" class=\"dataframe\">\n",
       "  <thead>\n",
       "    <tr style=\"text-align: right;\">\n",
       "      <th></th>\n",
       "      <th>female</th>\n",
       "      <th>yearsexp</th>\n",
       "      <th>computerskills</th>\n",
       "    </tr>\n",
       "    <tr>\n",
       "      <th>black</th>\n",
       "      <th></th>\n",
       "      <th></th>\n",
       "      <th></th>\n",
       "    </tr>\n",
       "  </thead>\n",
       "  <tbody>\n",
       "    <tr>\n",
       "      <th>0.0</th>\n",
       "      <td>0.763860</td>\n",
       "      <td>7.856263</td>\n",
       "      <td>0.808624</td>\n",
       "    </tr>\n",
       "    <tr>\n",
       "      <th>1.0</th>\n",
       "      <td>0.774538</td>\n",
       "      <td>7.829569</td>\n",
       "      <td>0.832444</td>\n",
       "    </tr>\n",
       "  </tbody>\n",
       "</table>\n",
       "</div>"
      ],
      "text/plain": [
       "         female  yearsexp  computerskills\n",
       "black                                    \n",
       "0.0    0.763860  7.856263        0.808624\n",
       "1.0    0.774538  7.829569        0.832444"
      ]
     },
     "execution_count": 6,
     "metadata": {},
     "output_type": "execute_result"
    }
   ],
   "source": [
    "#check means by treatment group first to see practical difference\n",
    "data.groupby('black')['female','yearsexp','computerskills'].mean()"
   ]
  },
  {
   "cell_type": "markdown",
   "metadata": {},
   "source": [
    "#### Answer\n",
    "1. Since treatment group and control group has the same number of observations, we can tell from aggregated table that gender, yearsexp and computerskills are similarly distributed among two groups. \n",
    "2. There some differences of means between two treatment groups, but we are not sure whether the differences are really different. We need to check t-test result."
   ]
  },
  {
   "cell_type": "code",
   "execution_count": 7,
   "metadata": {},
   "outputs": [
    {
     "name": "stdout",
     "output_type": "stream",
     "text": [
      "Number of females in the treatment group: 1886\n",
      "Number of females in the conrol group: 1860\n",
      "T-test for gender: Ttest_indResult(statistic=0.8841321018026016, pvalue=0.37666856909823254) \n",
      "\n",
      "Level of the computer skills in the treatment group: 2027\n",
      "Level of the computer skills in the control group: 1969\n",
      "T-test for computer skills: Ttest_indResult(statistic=2.1664271042751966, pvalue=0.030326933955391936) \n",
      "\n",
      "Years of experience in the treatment group: 19\n",
      "Years of experience in the control group: 26\n",
      "T-test for years of experience: Ttest_indResult(statistic=-0.18461970685747395, pvalue=0.8535350182481283)\n"
     ]
    }
   ],
   "source": [
    "#Check t-test among two groups\n",
    "\n",
    "#Gender\n",
    "print ('Number of females in the treatment group:', len(treatment[treatment['female']==1]))\n",
    "print ('Number of females in the conrol group:', len(control[control['female']==1]))\n",
    "print ('T-test for gender:', stats.ttest_ind(np.array(treatment['female']), np.array(control['female'])), '\\n')\n",
    "\n",
    "#Computer skills\n",
    "print ('Level of the computer skills in the treatment group:', len(treatment[treatment['computerskills']==1]))\n",
    "print ('Level of the computer skills in the control group:', len(control[control['computerskills']==1]))\n",
    "print ('T-test for computer skills:', stats.ttest_ind(np.array(treatment['computerskills']), np.array(control['computerskills'])), '\\n')\n",
    "\n",
    "#Years of experience\n",
    "print ('Years of experience in the treatment group:', len(treatment[treatment['yearsexp']==1]))\n",
    "print ('Years of experience in the control group:', len(control[control['yearsexp']==1]))\n",
    "print ('T-test for years of experience:', stats.ttest_ind(np.array(treatment['yearsexp']), np.array(control['yearsexp'])))\n"
   ]
  },
  {
   "cell_type": "markdown",
   "metadata": {},
   "source": [
    "#### Answer\n",
    "1. From t-test result, we can tell that gender and years of experiences looks balanced among treatment & control group since p value is larger than 0.05.\n",
    "2. However, computer skills in treatment group is siginificantly higher than control group."
   ]
  },
  {
   "cell_type": "markdown",
   "metadata": {},
   "source": [
    "### Exercise 2: Does education and the number of previous jobs look balanced across racial groups? (2 points)"
   ]
  },
  {
   "cell_type": "code",
   "execution_count": 8,
   "metadata": {},
   "outputs": [
    {
     "name": "stdout",
     "output_type": "stream",
     "text": [
      "education\n",
      "0      28\n",
      "1      22\n",
      "2     132\n",
      "3     493\n",
      "4    1760\n",
      "Name: black, dtype: int64\n"
     ]
    }
   ],
   "source": [
    "#compare educational level distribution among two groups\n",
    "treatment_edu=treatment.groupby(['education'])['black'].agg('count')\n",
    "print (treatment_edu)"
   ]
  },
  {
   "cell_type": "code",
   "execution_count": 9,
   "metadata": {
    "scrolled": true
   },
   "outputs": [
    {
     "name": "stdout",
     "output_type": "stream",
     "text": [
      "education\n",
      "0      18\n",
      "1      18\n",
      "2     142\n",
      "3     513\n",
      "4    1744\n",
      "Name: black, dtype: int64\n"
     ]
    }
   ],
   "source": [
    "control_edu=control.groupby(['education'])['black'].agg('count')\n",
    "print (control_edu)"
   ]
  },
  {
   "cell_type": "markdown",
   "metadata": {},
   "source": [
    "##### Note: It seems the categorical level are pretty similar distributed. We need to do chisquare test later to confirm whether t have difference among "
   ]
  },
  {
   "cell_type": "code",
   "execution_count": 10,
   "metadata": {},
   "outputs": [
    {
     "data": {
      "text/plain": [
       "Power_divergenceResult(statistic=8.075185882899378, pvalue=0.08886254294681423)"
      ]
     },
     "execution_count": 10,
     "metadata": {},
     "output_type": "execute_result"
    }
   ],
   "source": [
    "#t-test on education level\n",
    "stats.chisquare(np.array(treatment_edu), np.array(control_edu))"
   ]
  },
  {
   "cell_type": "code",
   "execution_count": 11,
   "metadata": {},
   "outputs": [
    {
     "data": {
      "text/plain": [
       "black\n",
       "0.0    3.664476\n",
       "1.0    3.658316\n",
       "Name: ofjobs, dtype: float64"
      ]
     },
     "execution_count": 11,
     "metadata": {},
     "output_type": "execute_result"
    }
   ],
   "source": [
    "#compare means of number of previous jobs between two groups\n",
    "data.groupby('black').mean()['ofjobs']"
   ]
  },
  {
   "cell_type": "code",
   "execution_count": 12,
   "metadata": {},
   "outputs": [
    {
     "name": "stdout",
     "output_type": "stream",
     "text": [
      "T-test for number of previous jobs: Ttest_indResult(statistic=-0.17629292771974545, pvalue=0.8600711511288889)\n"
     ]
    }
   ],
   "source": [
    "#t-test on ofjobs\n",
    "print ('T-test for number of previous jobs:', stats.ttest_ind(np.array(treatment['ofjobs']), np.array(control['ofjobs'])))"
   ]
  },
  {
   "cell_type": "markdown",
   "metadata": {},
   "source": [
    "#### Answer\n",
    "Given a standard level of significance of 0.05, we have not found a statistical evidence that there is a difference in distribtuion of years of expience & number of previous jobs between the treatment and control groups."
   ]
  },
  {
   "cell_type": "markdown",
   "metadata": {},
   "source": [
    "### Exercise 3: \n",
    "1. What do you make of the overall results on resume characteristics? \n",
    "2. Why do we care about whether these variables look similar across the race groups? (1 point)"
   ]
  },
  {
   "cell_type": "code",
   "execution_count": 13,
   "metadata": {},
   "outputs": [
    {
     "data": {
      "text/html": [
       "<div>\n",
       "<style scoped>\n",
       "    .dataframe tbody tr th:only-of-type {\n",
       "        vertical-align: middle;\n",
       "    }\n",
       "\n",
       "    .dataframe tbody tr th {\n",
       "        vertical-align: top;\n",
       "    }\n",
       "\n",
       "    .dataframe thead th {\n",
       "        text-align: right;\n",
       "    }\n",
       "</style>\n",
       "<table border=\"1\" class=\"dataframe\">\n",
       "  <thead>\n",
       "    <tr style=\"text-align: right;\">\n",
       "      <th></th>\n",
       "      <th>education</th>\n",
       "      <th>ofjobs</th>\n",
       "      <th>yearsexp</th>\n",
       "      <th>computerskills</th>\n",
       "      <th>call</th>\n",
       "      <th>female</th>\n",
       "      <th>black</th>\n",
       "    </tr>\n",
       "  </thead>\n",
       "  <tbody>\n",
       "    <tr>\n",
       "      <th>0</th>\n",
       "      <td>4</td>\n",
       "      <td>2</td>\n",
       "      <td>6</td>\n",
       "      <td>1</td>\n",
       "      <td>0.0</td>\n",
       "      <td>1.0</td>\n",
       "      <td>0.0</td>\n",
       "    </tr>\n",
       "    <tr>\n",
       "      <th>1</th>\n",
       "      <td>3</td>\n",
       "      <td>3</td>\n",
       "      <td>6</td>\n",
       "      <td>1</td>\n",
       "      <td>0.0</td>\n",
       "      <td>1.0</td>\n",
       "      <td>0.0</td>\n",
       "    </tr>\n",
       "  </tbody>\n",
       "</table>\n",
       "</div>"
      ],
      "text/plain": [
       "   education  ofjobs  yearsexp  computerskills  call  female  black\n",
       "0          4       2         6               1   0.0     1.0    0.0\n",
       "1          3       3         6               1   0.0     1.0    0.0"
      ]
     },
     "execution_count": 13,
     "metadata": {},
     "output_type": "execute_result"
    }
   ],
   "source": [
    "data.head(2)"
   ]
  },
  {
   "cell_type": "markdown",
   "metadata": {},
   "source": [
    "#### Answer\n",
    "1. Overall, treatment and control groups are well balanced for most of the features: gender, years of experience, number of previous jobs, and education variables; however, the level of computer skills between groups indeed varies.\n",
    "2. It is important to have balance because the only distinguishment between treatment and control groups has to be a response variable - in our case, this is race. Only in this ways, when we sees difference between two groups we could infer that the difference is \"caused\" by the \"race\" difference. As in our case, the only concern is \"computer skills\". Treatment group has a higher average computer skills when compared with control group. This indicates baseline difference between two group and could be problematic. If we see difference among outcome variable we can not infer that it is \"caused\" by race. And computer skills is a desired skills of employer, it could definetely impact employers' hiring decision. If the average call of treatment group is higher than control group, it could be caused by higher computer skills in treatment group as well as race. At that time, it is impossible for us to come to solid casual inference."
   ]
  },
  {
   "cell_type": "markdown",
   "metadata": {},
   "source": [
    "## Estimating Effect of Race"
   ]
  },
  {
   "cell_type": "markdown",
   "metadata": {},
   "source": [
    "### Exercise 4\n",
    "The variable of interest in the data set is the variable call, which indicates a call back for an interview. Perform a two-sample t-test comparing applicants with black sounding names and white sounding names."
   ]
  },
  {
   "cell_type": "code",
   "execution_count": 14,
   "metadata": {},
   "outputs": [
    {
     "data": {
      "text/plain": [
       "black\n",
       "0.0    0.096509\n",
       "1.0    0.064476\n",
       "Name: call, dtype: float32"
      ]
     },
     "execution_count": 14,
     "metadata": {},
     "output_type": "execute_result"
    }
   ],
   "source": [
    "#compare mean\n",
    "data.groupby('black').mean()['call']"
   ]
  },
  {
   "cell_type": "code",
   "execution_count": 15,
   "metadata": {},
   "outputs": [
    {
     "data": {
      "text/plain": [
       "Ttest_indResult(statistic=-4.114705290861751, pvalue=3.940802103128886e-05)"
      ]
     },
     "execution_count": 15,
     "metadata": {},
     "output_type": "execute_result"
    }
   ],
   "source": [
    "#t-test\n",
    "stats.ttest_ind(np.array(treatment['call']), np.array(control['call']))"
   ]
  },
  {
   "cell_type": "markdown",
   "metadata": {},
   "source": [
    "P-value is significantly less than 0.05, which is a statistical evidence to reject a null hypothesis that population means are equal. Call received by treatment & control group are different.\n"
   ]
  },
  {
   "cell_type": "markdown",
   "metadata": {},
   "source": [
    "### Exercise 5\n",
    "Now, use a regression model to estimate the differential likelihood of being called back by applicant race (i.e. the racial discrimination by employers)."
   ]
  },
  {
   "cell_type": "code",
   "execution_count": 16,
   "metadata": {},
   "outputs": [
    {
     "name": "stdout",
     "output_type": "stream",
     "text": [
      "Optimization terminated successfully.\n",
      "         Current function value: 0.278228\n",
      "         Iterations 7\n"
     ]
    },
    {
     "data": {
      "text/html": [
       "<table class=\"simpletable\">\n",
       "<caption>Logit Regression Results</caption>\n",
       "<tr>\n",
       "  <th>Dep. Variable:</th>       <td>call</td>       <th>  No. Observations:  </th>  <td>  4870</td>  \n",
       "</tr>\n",
       "<tr>\n",
       "  <th>Model:</th>               <td>Logit</td>      <th>  Df Residuals:      </th>  <td>  4868</td>  \n",
       "</tr>\n",
       "<tr>\n",
       "  <th>Method:</th>               <td>MLE</td>       <th>  Df Model:          </th>  <td>     1</td>  \n",
       "</tr>\n",
       "<tr>\n",
       "  <th>Date:</th>          <td>Tue, 11 Feb 2020</td> <th>  Pseudo R-squ.:     </th> <td>0.006228</td> \n",
       "</tr>\n",
       "<tr>\n",
       "  <th>Time:</th>              <td>00:55:43</td>     <th>  Log-Likelihood:    </th> <td> -1355.0</td> \n",
       "</tr>\n",
       "<tr>\n",
       "  <th>converged:</th>           <td>True</td>       <th>  LL-Null:           </th> <td> -1363.5</td> \n",
       "</tr>\n",
       "<tr>\n",
       "  <th> </th>                      <td> </td>        <th>  LLR p-value:       </th> <td>3.771e-05</td>\n",
       "</tr>\n",
       "</table>\n",
       "<table class=\"simpletable\">\n",
       "<tr>\n",
       "      <td></td>         <th>coef</th>     <th>std err</th>      <th>z</th>      <th>P>|z|</th>  <th>[0.025</th>    <th>0.975]</th>  \n",
       "</tr>\n",
       "<tr>\n",
       "  <th>Intercept</th> <td>   -2.2366</td> <td>    0.069</td> <td>  -32.590</td> <td> 0.000</td> <td>   -2.371</td> <td>   -2.102</td>\n",
       "</tr>\n",
       "<tr>\n",
       "  <th>black</th>     <td>   -0.4382</td> <td>    0.107</td> <td>   -4.083</td> <td> 0.000</td> <td>   -0.649</td> <td>   -0.228</td>\n",
       "</tr>\n",
       "</table>"
      ],
      "text/plain": [
       "<class 'statsmodels.iolib.summary.Summary'>\n",
       "\"\"\"\n",
       "                           Logit Regression Results                           \n",
       "==============================================================================\n",
       "Dep. Variable:                   call   No. Observations:                 4870\n",
       "Model:                          Logit   Df Residuals:                     4868\n",
       "Method:                           MLE   Df Model:                            1\n",
       "Date:                Tue, 11 Feb 2020   Pseudo R-squ.:                0.006228\n",
       "Time:                        00:55:43   Log-Likelihood:                -1355.0\n",
       "converged:                       True   LL-Null:                       -1363.5\n",
       "                                        LLR p-value:                 3.771e-05\n",
       "==============================================================================\n",
       "                 coef    std err          z      P>|z|      [0.025      0.975]\n",
       "------------------------------------------------------------------------------\n",
       "Intercept     -2.2366      0.069    -32.590      0.000      -2.371      -2.102\n",
       "black         -0.4382      0.107     -4.083      0.000      -0.649      -0.228\n",
       "==============================================================================\n",
       "\"\"\""
      ]
     },
     "execution_count": 16,
     "metadata": {},
     "output_type": "execute_result"
    }
   ],
   "source": [
    "smf.logit('call ~ black', data).fit().summary()"
   ]
  },
  {
   "cell_type": "markdown",
   "metadata": {},
   "source": [
    "#### Answer\n",
    "1. The differential log likelihood change from \"white\" candidates to \"black\" candidates is -0.438(95% CI: -0.649, -0.228).\n",
    "2. After we expand log likelihood, the \"white\" candidates have 0.107 odds of being called, while \"black\" candidates's odds of being called decreased by a factor of 0.645(95%CI: 0.523, 0.796). "
   ]
  },
  {
   "cell_type": "markdown",
   "metadata": {},
   "source": [
    "### Exercise 6\n",
    "Now let’s see if we can improve our estimates by adding in other variables as controls. Add in education, yearsexp, female, and computerskills – be sure to treat education as a categorical variable!"
   ]
  },
  {
   "cell_type": "code",
   "execution_count": 17,
   "metadata": {},
   "outputs": [
    {
     "name": "stdout",
     "output_type": "stream",
     "text": [
      "Optimization terminated successfully.\n",
      "         Current function value: 0.276112\n",
      "         Iterations 7\n"
     ]
    },
    {
     "data": {
      "text/html": [
       "<table class=\"simpletable\">\n",
       "<caption>Logit Regression Results</caption>\n",
       "<tr>\n",
       "  <th>Dep. Variable:</th>       <td>call</td>       <th>  No. Observations:  </th>  <td>  4870</td>  \n",
       "</tr>\n",
       "<tr>\n",
       "  <th>Model:</th>               <td>Logit</td>      <th>  Df Residuals:      </th>  <td>  4861</td>  \n",
       "</tr>\n",
       "<tr>\n",
       "  <th>Method:</th>               <td>MLE</td>       <th>  Df Model:          </th>  <td>     8</td>  \n",
       "</tr>\n",
       "<tr>\n",
       "  <th>Date:</th>          <td>Tue, 11 Feb 2020</td> <th>  Pseudo R-squ.:     </th>  <td>0.01378</td> \n",
       "</tr>\n",
       "<tr>\n",
       "  <th>Time:</th>              <td>00:55:43</td>     <th>  Log-Likelihood:    </th> <td> -1344.7</td> \n",
       "</tr>\n",
       "<tr>\n",
       "  <th>converged:</th>           <td>True</td>       <th>  LL-Null:           </th> <td> -1363.5</td> \n",
       "</tr>\n",
       "<tr>\n",
       "  <th> </th>                      <td> </td>        <th>  LLR p-value:       </th> <td>8.967e-06</td>\n",
       "</tr>\n",
       "</table>\n",
       "<table class=\"simpletable\">\n",
       "<tr>\n",
       "          <td></td>             <th>coef</th>     <th>std err</th>      <th>z</th>      <th>P>|z|</th>  <th>[0.025</th>    <th>0.975]</th>  \n",
       "</tr>\n",
       "<tr>\n",
       "  <th>Intercept</th>         <td>   -2.4498</td> <td>    0.620</td> <td>   -3.949</td> <td> 0.000</td> <td>   -3.666</td> <td>   -1.234</td>\n",
       "</tr>\n",
       "<tr>\n",
       "  <th>C(education)[T.1]</th> <td>   -0.0158</td> <td>    0.852</td> <td>   -0.019</td> <td> 0.985</td> <td>   -1.685</td> <td>    1.653</td>\n",
       "</tr>\n",
       "<tr>\n",
       "  <th>C(education)[T.2]</th> <td>    0.0116</td> <td>    0.640</td> <td>    0.018</td> <td> 0.986</td> <td>   -1.242</td> <td>    1.265</td>\n",
       "</tr>\n",
       "<tr>\n",
       "  <th>C(education)[T.3]</th> <td>   -0.0135</td> <td>    0.612</td> <td>   -0.022</td> <td> 0.982</td> <td>   -1.214</td> <td>    1.187</td>\n",
       "</tr>\n",
       "<tr>\n",
       "  <th>C(education)[T.4]</th> <td>   -0.0427</td> <td>    0.604</td> <td>   -0.071</td> <td> 0.944</td> <td>   -1.226</td> <td>    1.140</td>\n",
       "</tr>\n",
       "<tr>\n",
       "  <th>black</th>             <td>   -0.4352</td> <td>    0.108</td> <td>   -4.042</td> <td> 0.000</td> <td>   -0.646</td> <td>   -0.224</td>\n",
       "</tr>\n",
       "<tr>\n",
       "  <th>female</th>            <td>    0.1638</td> <td>    0.137</td> <td>    1.198</td> <td> 0.231</td> <td>   -0.104</td> <td>    0.432</td>\n",
       "</tr>\n",
       "<tr>\n",
       "  <th>yearsexp</th>          <td>    0.0370</td> <td>    0.009</td> <td>    3.989</td> <td> 0.000</td> <td>    0.019</td> <td>    0.055</td>\n",
       "</tr>\n",
       "<tr>\n",
       "  <th>computerskills</th>    <td>   -0.2355</td> <td>    0.138</td> <td>   -1.710</td> <td> 0.087</td> <td>   -0.505</td> <td>    0.034</td>\n",
       "</tr>\n",
       "</table>"
      ],
      "text/plain": [
       "<class 'statsmodels.iolib.summary.Summary'>\n",
       "\"\"\"\n",
       "                           Logit Regression Results                           \n",
       "==============================================================================\n",
       "Dep. Variable:                   call   No. Observations:                 4870\n",
       "Model:                          Logit   Df Residuals:                     4861\n",
       "Method:                           MLE   Df Model:                            8\n",
       "Date:                Tue, 11 Feb 2020   Pseudo R-squ.:                 0.01378\n",
       "Time:                        00:55:43   Log-Likelihood:                -1344.7\n",
       "converged:                       True   LL-Null:                       -1363.5\n",
       "                                        LLR p-value:                 8.967e-06\n",
       "=====================================================================================\n",
       "                        coef    std err          z      P>|z|      [0.025      0.975]\n",
       "-------------------------------------------------------------------------------------\n",
       "Intercept            -2.4498      0.620     -3.949      0.000      -3.666      -1.234\n",
       "C(education)[T.1]    -0.0158      0.852     -0.019      0.985      -1.685       1.653\n",
       "C(education)[T.2]     0.0116      0.640      0.018      0.986      -1.242       1.265\n",
       "C(education)[T.3]    -0.0135      0.612     -0.022      0.982      -1.214       1.187\n",
       "C(education)[T.4]    -0.0427      0.604     -0.071      0.944      -1.226       1.140\n",
       "black                -0.4352      0.108     -4.042      0.000      -0.646      -0.224\n",
       "female                0.1638      0.137      1.198      0.231      -0.104       0.432\n",
       "yearsexp              0.0370      0.009      3.989      0.000       0.019       0.055\n",
       "computerskills       -0.2355      0.138     -1.710      0.087      -0.505       0.034\n",
       "=====================================================================================\n",
       "\"\"\""
      ]
     },
     "execution_count": 17,
     "metadata": {},
     "output_type": "execute_result"
    }
   ],
   "source": [
    "smf.logit('call ~ black + female + yearsexp + computerskills + C(education)', data).fit().summary()"
   ]
  },
  {
   "cell_type": "markdown",
   "metadata": {},
   "source": [
    "#### Answer\n",
    "1. The differential log likelihood change from \"white\" candidates to \"black\" candidates is -0.435(95% CI: -0.646, -0.224).\n",
    "2. After we expand log likelihood, a \"white\" candidates who is man, 0 year of experience, no computer skill, not reported education level, has 0.086 odds of being called. A \"black\" candidate who has exactly the same features has odds of being called decreased by a factor of 0.647(95%CI: 0.524, 0.799). "
   ]
  },
  {
   "cell_type": "markdown",
   "metadata": {},
   "source": [
    "## Estimating Heterogeneous Effects"
   ]
  },
  {
   "cell_type": "markdown",
   "metadata": {},
   "source": [
    "### Exercise 7\n",
    "These effects are the average effects. Now let’s look for heterogeneous treatment effects.\n",
    "\n",
    "Look only at candidates with high educations. Is there more or less racial discrimination among these highly educated candidates?"
   ]
  },
  {
   "cell_type": "code",
   "execution_count": 18,
   "metadata": {},
   "outputs": [
    {
     "name": "stdout",
     "output_type": "stream",
     "text": [
      "Optimization terminated successfully.\n",
      "         Current function value: 0.273868\n",
      "         Iterations 7\n"
     ]
    },
    {
     "data": {
      "text/html": [
       "<table class=\"simpletable\">\n",
       "<caption>Logit Regression Results</caption>\n",
       "<tr>\n",
       "  <th>Dep. Variable:</th>       <td>call</td>       <th>  No. Observations:  </th>  <td>  3504</td> \n",
       "</tr>\n",
       "<tr>\n",
       "  <th>Model:</th>               <td>Logit</td>      <th>  Df Residuals:      </th>  <td>  3499</td> \n",
       "</tr>\n",
       "<tr>\n",
       "  <th>Method:</th>               <td>MLE</td>       <th>  Df Model:          </th>  <td>     4</td> \n",
       "</tr>\n",
       "<tr>\n",
       "  <th>Date:</th>          <td>Tue, 11 Feb 2020</td> <th>  Pseudo R-squ.:     </th> <td>0.009338</td>\n",
       "</tr>\n",
       "<tr>\n",
       "  <th>Time:</th>              <td>00:55:43</td>     <th>  Log-Likelihood:    </th> <td> -959.63</td>\n",
       "</tr>\n",
       "<tr>\n",
       "  <th>converged:</th>           <td>True</td>       <th>  LL-Null:           </th> <td> -968.68</td>\n",
       "</tr>\n",
       "<tr>\n",
       "  <th> </th>                      <td> </td>        <th>  LLR p-value:       </th> <td>0.001185</td>\n",
       "</tr>\n",
       "</table>\n",
       "<table class=\"simpletable\">\n",
       "<tr>\n",
       "         <td></td>           <th>coef</th>     <th>std err</th>      <th>z</th>      <th>P>|z|</th>  <th>[0.025</th>    <th>0.975]</th>  \n",
       "</tr>\n",
       "<tr>\n",
       "  <th>Intercept</th>      <td>   -2.5569</td> <td>    0.207</td> <td>  -12.326</td> <td> 0.000</td> <td>   -2.963</td> <td>   -2.150</td>\n",
       "</tr>\n",
       "<tr>\n",
       "  <th>black</th>          <td>   -0.3984</td> <td>    0.127</td> <td>   -3.130</td> <td> 0.002</td> <td>   -0.648</td> <td>   -0.149</td>\n",
       "</tr>\n",
       "<tr>\n",
       "  <th>female</th>         <td>    0.2881</td> <td>    0.150</td> <td>    1.924</td> <td> 0.054</td> <td>   -0.005</td> <td>    0.582</td>\n",
       "</tr>\n",
       "<tr>\n",
       "  <th>yearsexp</th>       <td>    0.0235</td> <td>    0.012</td> <td>    1.936</td> <td> 0.053</td> <td>   -0.000</td> <td>    0.047</td>\n",
       "</tr>\n",
       "<tr>\n",
       "  <th>computerskills</th> <td>   -0.1456</td> <td>    0.159</td> <td>   -0.916</td> <td> 0.360</td> <td>   -0.457</td> <td>    0.166</td>\n",
       "</tr>\n",
       "</table>"
      ],
      "text/plain": [
       "<class 'statsmodels.iolib.summary.Summary'>\n",
       "\"\"\"\n",
       "                           Logit Regression Results                           \n",
       "==============================================================================\n",
       "Dep. Variable:                   call   No. Observations:                 3504\n",
       "Model:                          Logit   Df Residuals:                     3499\n",
       "Method:                           MLE   Df Model:                            4\n",
       "Date:                Tue, 11 Feb 2020   Pseudo R-squ.:                0.009338\n",
       "Time:                        00:55:43   Log-Likelihood:                -959.63\n",
       "converged:                       True   LL-Null:                       -968.68\n",
       "                                        LLR p-value:                  0.001185\n",
       "==================================================================================\n",
       "                     coef    std err          z      P>|z|      [0.025      0.975]\n",
       "----------------------------------------------------------------------------------\n",
       "Intercept         -2.5569      0.207    -12.326      0.000      -2.963      -2.150\n",
       "black             -0.3984      0.127     -3.130      0.002      -0.648      -0.149\n",
       "female             0.2881      0.150      1.924      0.054      -0.005       0.582\n",
       "yearsexp           0.0235      0.012      1.936      0.053      -0.000       0.047\n",
       "computerskills    -0.1456      0.159     -0.916      0.360      -0.457       0.166\n",
       "==================================================================================\n",
       "\"\"\""
      ]
     },
     "execution_count": 18,
     "metadata": {},
     "output_type": "execute_result"
    }
   ],
   "source": [
    "# high education level model\n",
    "smf.logit('call ~ black + female + yearsexp + computerskills', data[data['education']==4]).fit().summary()"
   ]
  },
  {
   "cell_type": "code",
   "execution_count": 19,
   "metadata": {
    "scrolled": true
   },
   "outputs": [
    {
     "name": "stdout",
     "output_type": "stream",
     "text": [
      "Optimization terminated successfully.\n",
      "         Current function value: 0.276776\n",
      "         Iterations 7\n"
     ]
    },
    {
     "data": {
      "text/html": [
       "<table class=\"simpletable\">\n",
       "<caption>Logit Regression Results</caption>\n",
       "<tr>\n",
       "  <th>Dep. Variable:</th>       <td>call</td>       <th>  No. Observations:  </th>  <td>  1366</td>  \n",
       "</tr>\n",
       "<tr>\n",
       "  <th>Model:</th>               <td>Logit</td>      <th>  Df Residuals:      </th>  <td>  1361</td>  \n",
       "</tr>\n",
       "<tr>\n",
       "  <th>Method:</th>               <td>MLE</td>       <th>  Df Model:          </th>  <td>     4</td>  \n",
       "</tr>\n",
       "<tr>\n",
       "  <th>Date:</th>          <td>Tue, 11 Feb 2020</td> <th>  Pseudo R-squ.:     </th>  <td>0.04190</td> \n",
       "</tr>\n",
       "<tr>\n",
       "  <th>Time:</th>              <td>00:55:43</td>     <th>  Log-Likelihood:    </th> <td> -378.08</td> \n",
       "</tr>\n",
       "<tr>\n",
       "  <th>converged:</th>           <td>True</td>       <th>  LL-Null:           </th> <td> -394.61</td> \n",
       "</tr>\n",
       "<tr>\n",
       "  <th> </th>                      <td> </td>        <th>  LLR p-value:       </th> <td>1.159e-06</td>\n",
       "</tr>\n",
       "</table>\n",
       "<table class=\"simpletable\">\n",
       "<tr>\n",
       "         <td></td>           <th>coef</th>     <th>std err</th>      <th>z</th>      <th>P>|z|</th>  <th>[0.025</th>    <th>0.975]</th>  \n",
       "</tr>\n",
       "<tr>\n",
       "  <th>Intercept</th>      <td>   -1.9064</td> <td>    0.305</td> <td>   -6.251</td> <td> 0.000</td> <td>   -2.504</td> <td>   -1.309</td>\n",
       "</tr>\n",
       "<tr>\n",
       "  <th>black</th>          <td>   -0.5518</td> <td>    0.203</td> <td>   -2.716</td> <td> 0.007</td> <td>   -0.950</td> <td>   -0.154</td>\n",
       "</tr>\n",
       "<tr>\n",
       "  <th>female</th>         <td>   -0.5588</td> <td>    0.317</td> <td>   -1.762</td> <td> 0.078</td> <td>   -1.180</td> <td>    0.063</td>\n",
       "</tr>\n",
       "<tr>\n",
       "  <th>yearsexp</th>       <td>    0.0702</td> <td>    0.015</td> <td>    4.587</td> <td> 0.000</td> <td>    0.040</td> <td>    0.100</td>\n",
       "</tr>\n",
       "<tr>\n",
       "  <th>computerskills</th> <td>   -0.4576</td> <td>    0.263</td> <td>   -1.740</td> <td> 0.082</td> <td>   -0.973</td> <td>    0.058</td>\n",
       "</tr>\n",
       "</table>"
      ],
      "text/plain": [
       "<class 'statsmodels.iolib.summary.Summary'>\n",
       "\"\"\"\n",
       "                           Logit Regression Results                           \n",
       "==============================================================================\n",
       "Dep. Variable:                   call   No. Observations:                 1366\n",
       "Model:                          Logit   Df Residuals:                     1361\n",
       "Method:                           MLE   Df Model:                            4\n",
       "Date:                Tue, 11 Feb 2020   Pseudo R-squ.:                 0.04190\n",
       "Time:                        00:55:43   Log-Likelihood:                -378.08\n",
       "converged:                       True   LL-Null:                       -394.61\n",
       "                                        LLR p-value:                 1.159e-06\n",
       "==================================================================================\n",
       "                     coef    std err          z      P>|z|      [0.025      0.975]\n",
       "----------------------------------------------------------------------------------\n",
       "Intercept         -1.9064      0.305     -6.251      0.000      -2.504      -1.309\n",
       "black             -0.5518      0.203     -2.716      0.007      -0.950      -0.154\n",
       "female            -0.5588      0.317     -1.762      0.078      -1.180       0.063\n",
       "yearsexp           0.0702      0.015      4.587      0.000       0.040       0.100\n",
       "computerskills    -0.4576      0.263     -1.740      0.082      -0.973       0.058\n",
       "==================================================================================\n",
       "\"\"\""
      ]
     },
     "execution_count": 19,
     "metadata": {},
     "output_type": "execute_result"
    }
   ],
   "source": [
    "# low education level model\n",
    "smf.logit('call ~ black + female + yearsexp + computerskills', data[data['education'] != 4]).fit().summary()"
   ]
  },
  {
   "cell_type": "markdown",
   "metadata": {},
   "source": [
    "#### Answer\n",
    "1. For higher educated candidates: \n",
    "    a.The differential log likelihood change from \"white\" candidates to \"black\" candidates is -0.398(95% CI: -0.648, -0.149).\n",
    "    b. After we expand log likelihood, a \"white\" candidates who is man, 0 year of experience, no computer skill, has 0.078 odds of being called. A \"black\" candidate who has exactly the same features has odds of being called decreased by a factor of 0.672(95%CI: 0.523, 0.862). \n",
    "\n",
    "2. For lower educated candidates:\n",
    "    a.The differential log likelihood change from \"white\" candidates to \"black\" candidates is -0.5518(95% CI: -0.950, -0.154).\n",
    "    b. After we expand log likelihood, a \"white\" candidates who is man, 0 year of experience, no computer skill, has 0.078 odds of being called. A \"black\" candidate who has exactly the same features has odds of being called decreased by a factor of 0.576(95%CI: 0.387, 0.857). \n",
    "\n",
    "3. Analysis:\n",
    "From the result above, candidates with higher educational level have lower racial discrimination compared with candidates with lower educational level. But since the CI of \"black\" for lower education model and higher education mode are overlapped, whether the effect of race for candidates with higher education level is larger than others is hard to conclude."
   ]
  },
  {
   "cell_type": "markdown",
   "metadata": {},
   "source": [
    "### Exercise 8\n",
    "Now let’s compare men and women – is discrimination greater for Black men or Black women?"
   ]
  },
  {
   "cell_type": "code",
   "execution_count": 20,
   "metadata": {},
   "outputs": [
    {
     "data": {
      "text/plain": [
       "female\n",
       "0.0    0.058288\n",
       "1.0    0.066278\n",
       "Name: call, dtype: float32"
      ]
     },
     "execution_count": 20,
     "metadata": {},
     "output_type": "execute_result"
    }
   ],
   "source": [
    "#compare mean\n",
    "treatment.groupby('female').mean()['call']"
   ]
  },
  {
   "cell_type": "code",
   "execution_count": 21,
   "metadata": {},
   "outputs": [
    {
     "data": {
      "text/plain": [
       "Ttest_indResult(statistic=0.6706419018702243, pvalue=0.5025123365847134)"
      ]
     },
     "execution_count": 21,
     "metadata": {},
     "output_type": "execute_result"
    }
   ],
   "source": [
    "#t-test\n",
    "stats.ttest_ind(np.array(treatment[treatment['female']==1]['call']), np.array(treatment[treatment['female']==0]['call']))"
   ]
  },
  {
   "cell_type": "markdown",
   "metadata": {},
   "source": [
    "#### Answer\n",
    "Given a standard level of significance of 0.05, we have not found a statistical evidence that there is a difference in Black men and Black women in the call thery received. "
   ]
  },
  {
   "cell_type": "markdown",
   "metadata": {},
   "source": [
    "### Exercise 9\n",
    "Calculate and/or lookup the following online:\n",
    "\n",
    "What is the share of applicants in our dataset with college degrees?\n",
    "\n",
    "What share of Black adult Americans have college degrees (i.e. have completed a bachelors degree)?"
   ]
  },
  {
   "cell_type": "code",
   "execution_count": 22,
   "metadata": {},
   "outputs": [],
   "source": [
    "whole_per = data[data['education']==4].shape[0] / data.shape[0] * 100\n",
    "black_per = treatment[treatment['education']==4].shape[0] / treatment.shape[0] * 100"
   ]
  },
  {
   "cell_type": "code",
   "execution_count": 23,
   "metadata": {},
   "outputs": [
    {
     "name": "stdout",
     "output_type": "stream",
     "text": [
      "71.95071868583163 percentage of applicants in our dataset have college degrees or even higher degrees\n",
      "72.27926078028747 percentage of black adult Americans in our dataset have college degrees or even higher degrees\n"
     ]
    }
   ],
   "source": [
    "print('{} percentage of applicants in our dataset have college degrees or even higher degrees'.format(whole_per))\n",
    "print('{} percentage of black adult Americans in our dataset have college degrees or even higher degrees'.format(black_per))"
   ]
  },
  {
   "cell_type": "markdown",
   "metadata": {},
   "source": [
    "According to US census Bureau, near 22% of Black American have at least college degree. Our dataset doesn't reflect the distribution of general population. We could not generalize our conclusion from this dataset to general population."
   ]
  },
  {
   "cell_type": "markdown",
   "metadata": {},
   "source": [
    "### Exercise 10\n",
    "What are the implications of your answers to Exercise 7 and to Exercise 9 to how you interpret the Average Treatment Effect you estimated in Exercise 6?"
   ]
  },
  {
   "cell_type": "markdown",
   "metadata": {},
   "source": [
    "#### Answer\n",
    "1. to exercise 7&9: \n",
    "\n",
    "    a. the result suggests that there might be less racial discrimination among candidates with college educational level (or more), but we are not sure. And from exercise 9 we know that our dataset doesn't reflect the true distribution of black adult American's educational level in real life. Our dataset overrepresents the college level candidates. So we could not generalize the analysis result to general population. If candidates with higher education do experience lower discrimination, on average the general population might experience higher discrimination than this dataset indicates since they should have much more lower educated population.\n",
    "2. to exercise 6: \n",
    "\n",
    "    a. from our model statistics, \"black\" candidates in our dataset have lower likelihood being called back compared with \"not black\" candidates. But from exercise 1, we knew that our treatment group and control group have baseline difference: their \"computer skills\" have significant difference. Since \"black\" candidates in our dataset are a collectio of highly educated population, it is understandable their computer skills are higher than control group. So it is unknown that the different of \"call\" among two groups is caused only by \"race\" or also other features."
   ]
  },
  {
   "cell_type": "code",
   "execution_count": null,
   "metadata": {},
   "outputs": [],
   "source": []
  }
 ],
 "metadata": {
  "kernelspec": {
   "display_name": "Python 3",
   "language": "python",
   "name": "python3"
  },
  "language_info": {
   "codemirror_mode": {
    "name": "ipython",
    "version": 3
   },
   "file_extension": ".py",
   "mimetype": "text/x-python",
   "name": "python",
   "nbconvert_exporter": "python",
   "pygments_lexer": "ipython3",
   "version": "3.7.3"
  }
 },
 "nbformat": 4,
 "nbformat_minor": 2
}
